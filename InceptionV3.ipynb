{
  "nbformat": 4,
  "nbformat_minor": 0,
  "metadata": {
    "colab": {
      "provenance": [],
      "authorship_tag": "ABX9TyNcSozM4Gf8uCxjKKiH2Sl5",
      "include_colab_link": true
    },
    "kernelspec": {
      "name": "python3",
      "display_name": "Python 3"
    },
    "language_info": {
      "name": "python"
    }
  },
  "cells": [
    {
      "cell_type": "markdown",
      "metadata": {
        "id": "view-in-github",
        "colab_type": "text"
      },
      "source": [
        "<a href=\"https://colab.research.google.com/github/kosar-MRosh/Signals-Processing-by-Machine-Learning-/blob/main/InceptionV3.ipynb\" target=\"_parent\"><img src=\"https://colab.research.google.com/assets/colab-badge.svg\" alt=\"Open In Colab\"/></a>"
      ]
    },
    {
      "cell_type": "markdown",
      "source": [
        "#Import Necessary Modules"
      ],
      "metadata": {
        "id": "VrmKd9Bt2va-"
      }
    },
    {
      "cell_type": "code",
      "execution_count": null,
      "metadata": {
        "id": "7KCa_dfJ2qpX"
      },
      "outputs": [],
      "source": [
        "from tensorflow.keras.preprocessing import image\n",
        "import tensorflow as tf\n",
        "from tensorflow import keras\n",
        "from tensorflow.keras import layers\n",
        "from tensorflow.keras.layers import Conv2D, Input, Activation, MaxPooling2D, Flatten, Dense\n",
        "from tensorflow.keras.models import Model, load_model\n",
        "from tensorflow.keras.callbacks import TensorBoard, ModelCheckpoint\n",
        "from tensorflow.keras.optimizers import Adam\n",
        "from sklearn.model_selection import train_test_split\n",
        "from sklearn.metrics import f1_score\n",
        "from sklearn.utils import shuffle\n",
        "from os import listdir\n",
        "from glob import glob\n",
        "import numpy as np\n",
        "import seaborn as sns\n",
        "import pandas as pd\n",
        "import matplotlib.pyplot as plt\n",
        "import matplotlib.image as mpimg\n",
        "import time\n",
        "import keras\n",
        "import os\n",
        "import random\n",
        "import cv2\n",
        "import imutils\n",
        "import PIL\n",
        "\n",
        "%matplotlib inline"
      ]
    },
    {
      "cell_type": "markdown",
      "source": [
        "**Load Data**"
      ],
      "metadata": {
        "id": "9UKf7Edu246O"
      }
    },
    {
      "cell_type": "code",
      "source": [
        "from google.colab import drive\n",
        "drive.mount('/content/drive')"
      ],
      "metadata": {
        "colab": {
          "base_uri": "https://localhost:8080/"
        },
        "id": "FAuS_T8n3AiG",
        "outputId": "0e5a0534-aea8-45c5-89c9-8e653c9416a2"
      },
      "execution_count": null,
      "outputs": [
        {
          "output_type": "stream",
          "name": "stdout",
          "text": [
            "Mounted at /content/drive\n"
          ]
        }
      ]
    },
    {
      "cell_type": "code",
      "source": [
        "data_dir = \"/content/drive/MyDrive/MachineLearning/Datasets/Train/\"\n",
        "\n",
        "batch_size = 32\n",
        "img_height = 224\n",
        "img_width = 224\n",
        "\n",
        "train_ds = tf.keras.utils.image_dataset_from_directory(\n",
        "  data_dir,\n",
        "  validation_split=0.1,\n",
        "  subset=\"training\",\n",
        "  seed=123,\n",
        "  image_size=(img_height, img_width),\n",
        "  batch_size=batch_size)\n",
        "\n",
        "\n",
        "val_ds = tf.keras.utils.image_dataset_from_directory(\n",
        "  data_dir,\n",
        "  validation_split=0.1,\n",
        "  subset=\"validation\",\n",
        "  seed=123,\n",
        "  image_size=(img_height, img_width),\n",
        "  batch_size=batch_size)"
      ],
      "metadata": {
        "colab": {
          "base_uri": "https://localhost:8080/"
        },
        "id": "-WhalKa43DVn",
        "outputId": "7721b1c8-dc5e-4b32-9c9b-7dbcdf05e9f6"
      },
      "execution_count": null,
      "outputs": [
        {
          "output_type": "stream",
          "name": "stdout",
          "text": [
            "Found 3000 files belonging to 2 classes.\n",
            "Using 2700 files for training.\n",
            "Found 3000 files belonging to 2 classes.\n",
            "Using 300 files for validation.\n"
          ]
        }
      ]
    },
    {
      "cell_type": "code",
      "source": [
        "class_names = train_ds.class_names\n",
        "print('class names =',class_names)\n",
        "num_classes = len(class_names)\n",
        "print('number of classes =', num_classes)"
      ],
      "metadata": {
        "colab": {
          "base_uri": "https://localhost:8080/"
        },
        "id": "BY7b6_bg3PNG",
        "outputId": "d5aa1620-aa5c-4d6c-a72a-31092bad0631"
      },
      "execution_count": null,
      "outputs": [
        {
          "output_type": "stream",
          "name": "stdout",
          "text": [
            "class names = ['GBM', 'LGG']\n",
            "number of classes = 2\n"
          ]
        }
      ]
    },
    {
      "cell_type": "code",
      "source": [
        "AUTOTUNE = tf.data.AUTOTUNE\n",
        "\n",
        "train_ds = train_ds.cache().shuffle(1000).prefetch(buffer_size=AUTOTUNE)\n",
        "val_ds = val_ds.cache().prefetch(buffer_size=AUTOTUNE)"
      ],
      "metadata": {
        "id": "2qRyxOTJ3P7y"
      },
      "execution_count": null,
      "outputs": []
    },
    {
      "cell_type": "code",
      "source": [
        "normalization_layer = layers.Rescaling(1./255)"
      ],
      "metadata": {
        "id": "loh9Kvv272zG"
      },
      "execution_count": null,
      "outputs": []
    },
    {
      "cell_type": "code",
      "source": [
        "train_ds = train_ds.map(lambda x, y: (normalization_layer(x), y))\n",
        "val_ds = val_ds.map(lambda x, y: (normalization_layer(x), y))\n",
        "\n",
        "image_batch, labels_batch = next(iter(train_ds))\n",
        "first_image = image_batch[0]\n",
        "# Notice the pixel values are now in `[0,1]`.\n",
        "print(np.min(first_image), np.max(first_image))"
      ],
      "metadata": {
        "colab": {
          "base_uri": "https://localhost:8080/"
        },
        "id": "0Oczh32X3SRl",
        "outputId": "30e2a2e2-f39b-46ab-b4d1-26354d0b3bab"
      },
      "execution_count": null,
      "outputs": [
        {
          "output_type": "stream",
          "name": "stdout",
          "text": [
            "0.0 0.8847371\n"
          ]
        }
      ]
    },
    {
      "cell_type": "code",
      "source": [
        "from tensorflow.keras.applications.inception_v3 import InceptionV3"
      ],
      "metadata": {
        "id": "gnOmA54P-ww0"
      },
      "execution_count": null,
      "outputs": []
    },
    {
      "cell_type": "code",
      "source": [
        "inception = InceptionV3(weights = 'imagenet', include_top = False, input_shape = (224, 224, 3))\n",
        "\n",
        "#Here we freeze the last 4 layers\n",
        "#Layers are set to trainable as true by default\n",
        "\n",
        "for layer in inception.layers:\n",
        "    layer.trainable = False\n",
        "\n",
        "for(i, layer) in enumerate(inception.layers):\n",
        "   print(str(i)+\" \"+layer.__class__.__name__,layer.trainable)\n"
      ],
      "metadata": {
        "colab": {
          "base_uri": "https://localhost:8080/"
        },
        "id": "5YTylvQH3ail",
        "outputId": "300769cb-c25d-4231-b7b8-4e835ead998f"
      },
      "execution_count": null,
      "outputs": [
        {
          "output_type": "stream",
          "name": "stdout",
          "text": [
            "Downloading data from https://storage.googleapis.com/tensorflow/keras-applications/inception_v3/inception_v3_weights_tf_dim_ordering_tf_kernels_notop.h5\n",
            "87910968/87910968 [==============================] - 0s 0us/step\n",
            "0 InputLayer False\n",
            "1 Conv2D False\n",
            "2 BatchNormalization False\n",
            "3 Activation False\n",
            "4 Conv2D False\n",
            "5 BatchNormalization False\n",
            "6 Activation False\n",
            "7 Conv2D False\n",
            "8 BatchNormalization False\n",
            "9 Activation False\n",
            "10 MaxPooling2D False\n",
            "11 Conv2D False\n",
            "12 BatchNormalization False\n",
            "13 Activation False\n",
            "14 Conv2D False\n",
            "15 BatchNormalization False\n",
            "16 Activation False\n",
            "17 MaxPooling2D False\n",
            "18 Conv2D False\n",
            "19 BatchNormalization False\n",
            "20 Activation False\n",
            "21 Conv2D False\n",
            "22 Conv2D False\n",
            "23 BatchNormalization False\n",
            "24 BatchNormalization False\n",
            "25 Activation False\n",
            "26 Activation False\n",
            "27 AveragePooling2D False\n",
            "28 Conv2D False\n",
            "29 Conv2D False\n",
            "30 Conv2D False\n",
            "31 Conv2D False\n",
            "32 BatchNormalization False\n",
            "33 BatchNormalization False\n",
            "34 BatchNormalization False\n",
            "35 BatchNormalization False\n",
            "36 Activation False\n",
            "37 Activation False\n",
            "38 Activation False\n",
            "39 Activation False\n",
            "40 Concatenate False\n",
            "41 Conv2D False\n",
            "42 BatchNormalization False\n",
            "43 Activation False\n",
            "44 Conv2D False\n",
            "45 Conv2D False\n",
            "46 BatchNormalization False\n",
            "47 BatchNormalization False\n",
            "48 Activation False\n",
            "49 Activation False\n",
            "50 AveragePooling2D False\n",
            "51 Conv2D False\n",
            "52 Conv2D False\n",
            "53 Conv2D False\n",
            "54 Conv2D False\n",
            "55 BatchNormalization False\n",
            "56 BatchNormalization False\n",
            "57 BatchNormalization False\n",
            "58 BatchNormalization False\n",
            "59 Activation False\n",
            "60 Activation False\n",
            "61 Activation False\n",
            "62 Activation False\n",
            "63 Concatenate False\n",
            "64 Conv2D False\n",
            "65 BatchNormalization False\n",
            "66 Activation False\n",
            "67 Conv2D False\n",
            "68 Conv2D False\n",
            "69 BatchNormalization False\n",
            "70 BatchNormalization False\n",
            "71 Activation False\n",
            "72 Activation False\n",
            "73 AveragePooling2D False\n",
            "74 Conv2D False\n",
            "75 Conv2D False\n",
            "76 Conv2D False\n",
            "77 Conv2D False\n",
            "78 BatchNormalization False\n",
            "79 BatchNormalization False\n",
            "80 BatchNormalization False\n",
            "81 BatchNormalization False\n",
            "82 Activation False\n",
            "83 Activation False\n",
            "84 Activation False\n",
            "85 Activation False\n",
            "86 Concatenate False\n",
            "87 Conv2D False\n",
            "88 BatchNormalization False\n",
            "89 Activation False\n",
            "90 Conv2D False\n",
            "91 BatchNormalization False\n",
            "92 Activation False\n",
            "93 Conv2D False\n",
            "94 Conv2D False\n",
            "95 BatchNormalization False\n",
            "96 BatchNormalization False\n",
            "97 Activation False\n",
            "98 Activation False\n",
            "99 MaxPooling2D False\n",
            "100 Concatenate False\n",
            "101 Conv2D False\n",
            "102 BatchNormalization False\n",
            "103 Activation False\n",
            "104 Conv2D False\n",
            "105 BatchNormalization False\n",
            "106 Activation False\n",
            "107 Conv2D False\n",
            "108 Conv2D False\n",
            "109 BatchNormalization False\n",
            "110 BatchNormalization False\n",
            "111 Activation False\n",
            "112 Activation False\n",
            "113 Conv2D False\n",
            "114 Conv2D False\n",
            "115 BatchNormalization False\n",
            "116 BatchNormalization False\n",
            "117 Activation False\n",
            "118 Activation False\n",
            "119 AveragePooling2D False\n",
            "120 Conv2D False\n",
            "121 Conv2D False\n",
            "122 Conv2D False\n",
            "123 Conv2D False\n",
            "124 BatchNormalization False\n",
            "125 BatchNormalization False\n",
            "126 BatchNormalization False\n",
            "127 BatchNormalization False\n",
            "128 Activation False\n",
            "129 Activation False\n",
            "130 Activation False\n",
            "131 Activation False\n",
            "132 Concatenate False\n",
            "133 Conv2D False\n",
            "134 BatchNormalization False\n",
            "135 Activation False\n",
            "136 Conv2D False\n",
            "137 BatchNormalization False\n",
            "138 Activation False\n",
            "139 Conv2D False\n",
            "140 Conv2D False\n",
            "141 BatchNormalization False\n",
            "142 BatchNormalization False\n",
            "143 Activation False\n",
            "144 Activation False\n",
            "145 Conv2D False\n",
            "146 Conv2D False\n",
            "147 BatchNormalization False\n",
            "148 BatchNormalization False\n",
            "149 Activation False\n",
            "150 Activation False\n",
            "151 AveragePooling2D False\n",
            "152 Conv2D False\n",
            "153 Conv2D False\n",
            "154 Conv2D False\n",
            "155 Conv2D False\n",
            "156 BatchNormalization False\n",
            "157 BatchNormalization False\n",
            "158 BatchNormalization False\n",
            "159 BatchNormalization False\n",
            "160 Activation False\n",
            "161 Activation False\n",
            "162 Activation False\n",
            "163 Activation False\n",
            "164 Concatenate False\n",
            "165 Conv2D False\n",
            "166 BatchNormalization False\n",
            "167 Activation False\n",
            "168 Conv2D False\n",
            "169 BatchNormalization False\n",
            "170 Activation False\n",
            "171 Conv2D False\n",
            "172 Conv2D False\n",
            "173 BatchNormalization False\n",
            "174 BatchNormalization False\n",
            "175 Activation False\n",
            "176 Activation False\n",
            "177 Conv2D False\n",
            "178 Conv2D False\n",
            "179 BatchNormalization False\n",
            "180 BatchNormalization False\n",
            "181 Activation False\n",
            "182 Activation False\n",
            "183 AveragePooling2D False\n",
            "184 Conv2D False\n",
            "185 Conv2D False\n",
            "186 Conv2D False\n",
            "187 Conv2D False\n",
            "188 BatchNormalization False\n",
            "189 BatchNormalization False\n",
            "190 BatchNormalization False\n",
            "191 BatchNormalization False\n",
            "192 Activation False\n",
            "193 Activation False\n",
            "194 Activation False\n",
            "195 Activation False\n",
            "196 Concatenate False\n",
            "197 Conv2D False\n",
            "198 BatchNormalization False\n",
            "199 Activation False\n",
            "200 Conv2D False\n",
            "201 BatchNormalization False\n",
            "202 Activation False\n",
            "203 Conv2D False\n",
            "204 Conv2D False\n",
            "205 BatchNormalization False\n",
            "206 BatchNormalization False\n",
            "207 Activation False\n",
            "208 Activation False\n",
            "209 Conv2D False\n",
            "210 Conv2D False\n",
            "211 BatchNormalization False\n",
            "212 BatchNormalization False\n",
            "213 Activation False\n",
            "214 Activation False\n",
            "215 AveragePooling2D False\n",
            "216 Conv2D False\n",
            "217 Conv2D False\n",
            "218 Conv2D False\n",
            "219 Conv2D False\n",
            "220 BatchNormalization False\n",
            "221 BatchNormalization False\n",
            "222 BatchNormalization False\n",
            "223 BatchNormalization False\n",
            "224 Activation False\n",
            "225 Activation False\n",
            "226 Activation False\n",
            "227 Activation False\n",
            "228 Concatenate False\n",
            "229 Conv2D False\n",
            "230 BatchNormalization False\n",
            "231 Activation False\n",
            "232 Conv2D False\n",
            "233 BatchNormalization False\n",
            "234 Activation False\n",
            "235 Conv2D False\n",
            "236 Conv2D False\n",
            "237 BatchNormalization False\n",
            "238 BatchNormalization False\n",
            "239 Activation False\n",
            "240 Activation False\n",
            "241 Conv2D False\n",
            "242 Conv2D False\n",
            "243 BatchNormalization False\n",
            "244 BatchNormalization False\n",
            "245 Activation False\n",
            "246 Activation False\n",
            "247 MaxPooling2D False\n",
            "248 Concatenate False\n",
            "249 Conv2D False\n",
            "250 BatchNormalization False\n",
            "251 Activation False\n",
            "252 Conv2D False\n",
            "253 Conv2D False\n",
            "254 BatchNormalization False\n",
            "255 BatchNormalization False\n",
            "256 Activation False\n",
            "257 Activation False\n",
            "258 Conv2D False\n",
            "259 Conv2D False\n",
            "260 Conv2D False\n",
            "261 Conv2D False\n",
            "262 AveragePooling2D False\n",
            "263 Conv2D False\n",
            "264 BatchNormalization False\n",
            "265 BatchNormalization False\n",
            "266 BatchNormalization False\n",
            "267 BatchNormalization False\n",
            "268 Conv2D False\n",
            "269 BatchNormalization False\n",
            "270 Activation False\n",
            "271 Activation False\n",
            "272 Activation False\n",
            "273 Activation False\n",
            "274 BatchNormalization False\n",
            "275 Activation False\n",
            "276 Concatenate False\n",
            "277 Concatenate False\n",
            "278 Activation False\n",
            "279 Concatenate False\n",
            "280 Conv2D False\n",
            "281 BatchNormalization False\n",
            "282 Activation False\n",
            "283 Conv2D False\n",
            "284 Conv2D False\n",
            "285 BatchNormalization False\n",
            "286 BatchNormalization False\n",
            "287 Activation False\n",
            "288 Activation False\n",
            "289 Conv2D False\n",
            "290 Conv2D False\n",
            "291 Conv2D False\n",
            "292 Conv2D False\n",
            "293 AveragePooling2D False\n",
            "294 Conv2D False\n",
            "295 BatchNormalization False\n",
            "296 BatchNormalization False\n",
            "297 BatchNormalization False\n",
            "298 BatchNormalization False\n",
            "299 Conv2D False\n",
            "300 BatchNormalization False\n",
            "301 Activation False\n",
            "302 Activation False\n",
            "303 Activation False\n",
            "304 Activation False\n",
            "305 BatchNormalization False\n",
            "306 Activation False\n",
            "307 Concatenate False\n",
            "308 Concatenate False\n",
            "309 Activation False\n",
            "310 Concatenate False\n"
          ]
        }
      ]
    },
    {
      "cell_type": "code",
      "source": [
        "from keras.layers.pooling.global_average_pooling1d import GlobalAveragePooling1D\n",
        "from keras.models import sequential\n",
        "from keras.models import convolution2D, Dropout, Dense, MaxPooling2D\n",
        "from keras.models import BachNormalization\n",
        "from keras.models import MaxPooling2D\n",
        "from keras.models import Functional\n",
        "from keras.models import regularizers\n",
        "\n",
        "#creates the top or head of the model that will be paced ontop of the bottom layers\n",
        "\n",
        "def addTopModelinception(bottom_model, num_classes):\n",
        "\n",
        "    \"\"\"creates the top or head of the model that will be paced ontop of the bottom layers\"\"\"\n",
        "\n",
        "    top_model = bottom_model.output\n",
        "    top_model = GlobalAveragePooling1D()(top_model)\n",
        "    top_model = Dense(1024, activation = 'relu')(top_model)\n",
        "    top_model = Dense(512, activation = 'relu')(top_model)\n",
        "    top_model = Dense(128, activation = 'relu', kernel_regularizers = regularizers.l2(0.01))(top_model)\n",
        "    top_model = Dense(num_classes = 2, activation = 'sigmoid')(top_model)\n",
        "    return top_model"
      ],
      "metadata": {
        "colab": {
          "base_uri": "https://localhost:8080/",
          "height": 130
        },
        "id": "u4yUX9Eh77Km",
        "outputId": "f90fce6a-0c15-4716-fea2-5481e5ce55fc"
      },
      "execution_count": null,
      "outputs": [
        {
          "output_type": "error",
          "ename": "SyntaxError",
          "evalue": "ignored",
          "traceback": [
            "\u001b[0;36m  File \u001b[0;32m\"<ipython-input-25-f333b291564b>\"\u001b[0;36m, line \u001b[0;32m19\u001b[0m\n\u001b[0;31m    top_model = Dense(128, activation = 'relu', kernel_regularizers = regularizers.12(0.01))(top_model)\u001b[0m\n\u001b[0m                                                                                  ^\u001b[0m\n\u001b[0;31mSyntaxError\u001b[0m\u001b[0;31m:\u001b[0m invalid syntax\n"
          ]
        }
      ]
    },
    {
      "cell_type": "code",
      "source": [
        "from keras.layers.serialization import activation\n",
        "from keras.models import sequential\n",
        "from keras.layers import Dense, Dropout, activation, Flatten, GlobalAveragePooling2D\n",
        "from keras.layers import Conv2D, MaxPooling2D, ZeroPadding2D\n",
        "from keras.models import Model"
      ],
      "metadata": {
        "id": "UjXiphfzClYv"
      },
      "execution_count": null,
      "outputs": []
    },
    {
      "cell_type": "code",
      "source": [
        ", output\n",
        "num_classes = 2\n",
        "FC_Head = addTopModelinception(inception, num_classes)\n",
        "model = Model(inputs = vgg.Input, output = FC_Head)\n",
        "\n",
        "print(model.summary())"
      ],
      "metadata": {
        "id": "7Yc9ydCSDm0V"
      },
      "execution_count": null,
      "outputs": []
    }
  ]
}